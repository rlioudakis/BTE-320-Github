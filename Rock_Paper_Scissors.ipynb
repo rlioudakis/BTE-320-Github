{
  "nbformat": 4,
  "nbformat_minor": 0,
  "metadata": {
    "colab": {
      "provenance": [],
      "authorship_tag": "ABX9TyOnblIffOgz91afewS0fGwY",
      "include_colab_link": true
    },
    "kernelspec": {
      "name": "python3",
      "display_name": "Python 3"
    },
    "language_info": {
      "name": "python"
    }
  },
  "cells": [
    {
      "cell_type": "markdown",
      "metadata": {
        "id": "view-in-github",
        "colab_type": "text"
      },
      "source": [
        "<a href=\"https://colab.research.google.com/github/rlioudakis/BTE-320-Github/blob/main/Rock_Paper_Scissors.ipynb\" target=\"_parent\"><img src=\"https://colab.research.google.com/assets/colab-badge.svg\" alt=\"Open In Colab\"/></a>"
      ]
    },
    {
      "cell_type": "code",
      "execution_count": null,
      "metadata": {
        "colab": {
          "base_uri": "https://localhost:8080/"
        },
        "id": "acwOTJQSo7Jj",
        "outputId": "bd7a2d67-d5ca-436f-e290-c2b7dba461bd"
      },
      "outputs": [
        {
          "output_type": "stream",
          "name": "stdout",
          "text": [
            "Enter Rock, Paper, or Scissors:Rock\n",
            "Rock\n",
            "Tie\n"
          ]
        }
      ],
      "source": [
        "import random\n",
        "\n",
        "userchoice = input('Enter Rock, Paper, or Scissors:')\n",
        "pC_choice = random.choice([\"Rock\",\"Paper\", \"Scissors\"])\n",
        "print(pC_choice)\n",
        "\n",
        "if userchoice == \"Rock\" and pC_choice == \"Scissors\" or userchoice == \"Scissors\" and pC_choice == \"Paper\" or userchoice == \"Paper\" and pC_choice == \"Rock\":\n",
        "  print('User wins')\n",
        "elif pC_choice == userchoice:\n",
        "  print(\"Tie\")\n",
        "else:\n",
        "  print('PC wins')"
      ]
    },
    {
      "cell_type": "code",
      "source": [
        "import random\n",
        "userInput = input('Enter Y or N:')\n",
        "while userInput == \"Y\":\n",
        "  userchoice = input('Enter Rock, Paper, or Scissors:')\n",
        "  pC_choice = random.choice([\"Rock\",\"Paper\", \"Scissors\"])\n",
        "  print(pC_choice)\n",
        "  if userchoice == \"Rock\" and pC_choice == \"Scissors\" or userchoice == \"Scissors\" and pC_choice == \"Paper\" or userchoice == \"Paper\" and pC_choice == \"Rock\":\n",
        "    print('User wins')\n",
        "  elif pC_choice == userchoice:\n",
        "    print(\"Tie\")\n",
        "  else:\n",
        "    print('PC wins')\n",
        "  userInput = input('Do you want to play again? Enter Y or N:')"
      ],
      "metadata": {
        "id": "Zi5lCsGipMhW",
        "outputId": "ae15c1c4-7793-4dd7-d65d-2f1c6719c28c",
        "colab": {
          "base_uri": "https://localhost:8080/"
        }
      },
      "execution_count": null,
      "outputs": [
        {
          "metadata": {
            "tags": null
          },
          "name": "stdout",
          "output_type": "stream",
          "text": [
            "Paper\n",
            "PC wins\n",
            "Rock\n",
            "Tie\n"
          ]
        }
      ]
    }
  ]
}