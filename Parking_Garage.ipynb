{
  "nbformat": 4,
  "nbformat_minor": 0,
  "metadata": {
    "colab": {
      "provenance": [],
      "authorship_tag": "ABX9TyPLAQcuKjVmwjYU4HhJIV8r",
      "include_colab_link": true
    },
    "kernelspec": {
      "name": "python3",
      "display_name": "Python 3"
    },
    "language_info": {
      "name": "python"
    }
  },
  "cells": [
    {
      "cell_type": "markdown",
      "metadata": {
        "id": "view-in-github",
        "colab_type": "text"
      },
      "source": [
        "<a href=\"https://colab.research.google.com/github/rlioudakis/BTE-320-Github/blob/main/Parking_Garage.ipynb\" target=\"_parent\"><img src=\"https://colab.research.google.com/assets/colab-badge.svg\" alt=\"Open In Colab\"/></a>"
      ]
    },
    {
      "cell_type": "code",
      "execution_count": 1,
      "metadata": {
        "colab": {
          "base_uri": "https://localhost:8080/"
        },
        "id": "QGqgQlv6pvBU",
        "outputId": "777ed26e-f6c2-48a8-a4d8-3f65c216aad6"
      },
      "outputs": [
        {
          "output_type": "stream",
          "name": "stdout",
          "text": [
            "1 10\n",
            "2 10\n",
            "3 12.5\n",
            "4 15\n",
            "5 17.5\n",
            "6 20\n",
            "7 20\n",
            "8 20\n"
          ]
        }
      ],
      "source": [
        "for i in range(1,9,1):\n",
        "  if i < 3:\n",
        "    print(i, 10)\n",
        "  if i == 3:\n",
        "    print(i, 12.5)\n",
        "  if i == 4:\n",
        "    print(i,15)\n",
        "  if i == 5:\n",
        "    print(i,17.5)\n",
        "  if i > 5:\n",
        "    print(i, 20)"
      ]
    }
  ]
}