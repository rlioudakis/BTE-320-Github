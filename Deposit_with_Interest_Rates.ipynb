{
  "nbformat": 4,
  "nbformat_minor": 0,
  "metadata": {
    "colab": {
      "provenance": [],
      "authorship_tag": "ABX9TyP/1s3Hs5YbdNMHWztacHgq",
      "include_colab_link": true
    },
    "kernelspec": {
      "name": "python3",
      "display_name": "Python 3"
    },
    "language_info": {
      "name": "python"
    }
  },
  "cells": [
    {
      "cell_type": "markdown",
      "metadata": {
        "id": "view-in-github",
        "colab_type": "text"
      },
      "source": [
        "<a href=\"https://colab.research.google.com/github/rlioudakis/BTE-320-Github/blob/main/Deposit_with_Interest_Rates.ipynb\" target=\"_parent\"><img src=\"https://colab.research.google.com/assets/colab-badge.svg\" alt=\"Open In Colab\"/></a>"
      ]
    },
    {
      "cell_type": "code",
      "execution_count": 1,
      "metadata": {
        "colab": {
          "base_uri": "https://localhost:8080/"
        },
        "id": "UUJ9NdKakhd2",
        "outputId": "d374ffac-473e-4a37-c52a-75e0c0f27ebf"
      },
      "outputs": [
        {
          "output_type": "stream",
          "name": "stdout",
          "text": [
            "Enter customer type(n:new, e:existing):e\n",
            "Enter deposit amount ($): 20000\n",
            "total amount after applying interest rate: 20700.0$\n"
          ]
        }
      ],
      "source": [
        "customer_type = input('Enter customer type(n:new, e:existing):')\n",
        "deposit = float(input('Enter deposit amount ($): '))\n",
        "if customer_type == 'e':\n",
        "  if deposit > 10000:\n",
        "    ir = 3.5\n",
        "  elif deposit <= 1000:\n",
        "    ir = 3.00\n",
        "  else:\n",
        "    ir = 3.25\n",
        "else:\n",
        "  ir = 3.0\n",
        "\n",
        "total = (1+ir/100)*deposit\n",
        "print(f'total amount after applying interest rate: {round(total,2)}$')"
      ]
    }
  ]
}