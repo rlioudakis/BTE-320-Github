{
  "nbformat": 4,
  "nbformat_minor": 0,
  "metadata": {
    "colab": {
      "provenance": [],
      "authorship_tag": "ABX9TyMNHOPRoObh6cgtcF7jLDOw",
      "include_colab_link": true
    },
    "kernelspec": {
      "name": "python3",
      "display_name": "Python 3"
    },
    "language_info": {
      "name": "python"
    }
  },
  "cells": [
    {
      "cell_type": "markdown",
      "metadata": {
        "id": "view-in-github",
        "colab_type": "text"
      },
      "source": [
        "<a href=\"https://colab.research.google.com/github/rlioudakis/BTE-320-Github/blob/main/List_In_Class_Assignment_.ipynb\" target=\"_parent\"><img src=\"https://colab.research.google.com/assets/colab-badge.svg\" alt=\"Open In Colab\"/></a>"
      ]
    },
    {
      "cell_type": "code",
      "execution_count": 17,
      "metadata": {
        "colab": {
          "base_uri": "https://localhost:8080/"
        },
        "id": "vaWhfRMVBFQ_",
        "outputId": "a39d0fbc-e564-4ffb-cc52-46450a8edb7d"
      },
      "outputs": [
        {
          "output_type": "stream",
          "name": "stdout",
          "text": [
            "Enter a value: 3\n",
            "[3]\n",
            "Enter a value: 4\n",
            "[3, 4]\n",
            "Enter a value: 0\n",
            "[3, 4]\n"
          ]
        }
      ],
      "source": [
        "L = []\n",
        "number = int(input('Enter a value: '))\n",
        "while number !=0:\n",
        "  L.append(number)\n",
        "  print(L)\n",
        "  number = int(input('Enter a value: '))\n",
        "if number == 0 :\n",
        "    print(L)\n",
        ""
      ]
    }
  ]
}