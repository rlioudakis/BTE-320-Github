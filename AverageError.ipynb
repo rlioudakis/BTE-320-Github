{
  "nbformat": 4,
  "nbformat_minor": 0,
  "metadata": {
    "colab": {
      "provenance": [],
      "authorship_tag": "ABX9TyO3J3nKWYkDY8o7Vluw962x",
      "include_colab_link": true
    },
    "kernelspec": {
      "name": "python3",
      "display_name": "Python 3"
    },
    "language_info": {
      "name": "python"
    }
  },
  "cells": [
    {
      "cell_type": "markdown",
      "metadata": {
        "id": "view-in-github",
        "colab_type": "text"
      },
      "source": [
        "<a href=\"https://colab.research.google.com/github/rlioudakis/BTE-320-Github/blob/main/AverageError.ipynb\" target=\"_parent\"><img src=\"https://colab.research.google.com/assets/colab-badge.svg\" alt=\"Open In Colab\"/></a>"
      ]
    },
    {
      "cell_type": "code",
      "execution_count": 14,
      "metadata": {
        "colab": {
          "base_uri": "https://localhost:8080/"
        },
        "id": "jER2nMXJ2oOd",
        "outputId": "35b2c8ec-3f37-4948-98b2-5a39eabb7964"
      },
      "outputs": [
        {
          "output_type": "stream",
          "name": "stdout",
          "text": [
            "The list is empty\n"
          ]
        },
        {
          "output_type": "execute_result",
          "data": {
            "text/plain": [
              "nan"
            ]
          },
          "metadata": {},
          "execution_count": 14
        }
      ],
      "source": [
        "def average(n):\n",
        "  try:\n",
        "    return sum(n)/len(n)\n",
        "  except TypeError:\n",
        "    print('The list does not contain numbers only')\n",
        "    return None\n",
        "  except ZeroDivisionError:\n",
        "    print('The list is empty')\n",
        "    return float('nan')\n",
        "  except:\n",
        "    print('Unknown error')\n",
        "\n",
        "l = []\n",
        "average(l)\n",
        "\n",
        "\n",
        "\n",
        "\n"
      ]
    }
  ]
}