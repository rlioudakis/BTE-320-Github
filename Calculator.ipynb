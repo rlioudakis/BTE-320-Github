{
  "nbformat": 4,
  "nbformat_minor": 0,
  "metadata": {
    "colab": {
      "provenance": [],
      "authorship_tag": "ABX9TyPAytglCaRFvc6p3mlmLXaW",
      "include_colab_link": true
    },
    "kernelspec": {
      "name": "python3",
      "display_name": "Python 3"
    },
    "language_info": {
      "name": "python"
    }
  },
  "cells": [
    {
      "cell_type": "markdown",
      "metadata": {
        "id": "view-in-github",
        "colab_type": "text"
      },
      "source": [
        "<a href=\"https://colab.research.google.com/github/rlioudakis/BTE-320-Github/blob/main/Calculator.ipynb\" target=\"_parent\"><img src=\"https://colab.research.google.com/assets/colab-badge.svg\" alt=\"Open In Colab\"/></a>"
      ]
    },
    {
      "cell_type": "code",
      "execution_count": null,
      "metadata": {
        "colab": {
          "base_uri": "https://localhost:8080/"
        },
        "id": "HQWi6e4SqMpx",
        "outputId": "deebdb16-1e2a-427f-fe24-45a21bde10c1"
      },
      "outputs": [
        {
          "metadata": {
            "tags": null
          },
          "name": "stdout",
          "output_type": "stream",
          "text": [
            "Invalid operator\n",
            "0.5\n"
          ]
        }
      ],
      "source": [
        "while True:\n",
        "  number1 = float(input(\"Enter the first number: \"))\n",
        "  number2 = float(input(\"Enter the second number: \"))\n",
        "  operator = (input(\"Enter a mathematical operator symbol or word, or break: \"))\n",
        "\n",
        "  if operator.lower() == 'break':\n",
        "    print(\"Goodbye!\")\n",
        "    break\n",
        "\n",
        "  elif operator == '+' or operator == 'Addition':\n",
        "    answer = (number1 + number2)\n",
        "    print(answer)\n",
        "\n",
        "  elif operator == '-' or operator == 'Subtraction':\n",
        "    answer = (number1 - number2)\n",
        "    print(answer)\n",
        "\n",
        "  elif operator == '*' or operator == 'Multiplication':\n",
        "    answer = (number1*number2)\n",
        "    print(answer)\n",
        "\n",
        "  elif operator == '/' or operator == 'Division':\n",
        "    answer = (number1/number2)\n",
        "    print(answer)\n",
        "\n",
        "  elif operator == '//' or operator == 'Floor Division':\n",
        "    answer = (number1//number2)\n",
        "    print(answer)\n",
        "\n",
        "  elif operator == '**' or operator == 'Power':\n",
        "    answer = (number1**number2)\n",
        "    print(answer)\n",
        "\n",
        "  elif operator == '%' or operator == 'Modulus':\n",
        "    answer = (number1%number2)\n",
        "    print(answer)\n",
        "\n",
        "  else:\n",
        "    print('Invalid operator')\n",
        "    continue"
      ]
    }
  ]
}