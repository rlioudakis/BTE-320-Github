{
  "nbformat": 4,
  "nbformat_minor": 0,
  "metadata": {
    "colab": {
      "provenance": [],
      "authorship_tag": "ABX9TyOp9hfX7jbX8FDuJJLlEmWt",
      "include_colab_link": true
    },
    "kernelspec": {
      "name": "python3",
      "display_name": "Python 3"
    },
    "language_info": {
      "name": "python"
    }
  },
  "cells": [
    {
      "cell_type": "markdown",
      "metadata": {
        "id": "view-in-github",
        "colab_type": "text"
      },
      "source": [
        "<a href=\"https://colab.research.google.com/github/rlioudakis/BTE-320-Github/blob/main/Point_example.ipynb\" target=\"_parent\"><img src=\"https://colab.research.google.com/assets/colab-badge.svg\" alt=\"Open In Colab\"/></a>"
      ]
    },
    {
      "cell_type": "code",
      "execution_count": 3,
      "metadata": {
        "id": "69RBH5F05kRG",
        "colab": {
          "base_uri": "https://localhost:8080/"
        },
        "outputId": "d1f33a03-69b7-4ba2-a26e-136ab0e4e1e5"
      },
      "outputs": [
        {
          "output_type": "stream",
          "name": "stdout",
          "text": [
            "5.0\n",
            "22.47220505424423\n"
          ]
        }
      ],
      "source": [
        "import math\n",
        "\n",
        "class Point:\n",
        "  def __init__(self, x, y):\n",
        "    self.x = x\n",
        "    self.y = y\n",
        "  def distance(self, other):\n",
        "    x_diff = self.x - other.x\n",
        "    y_diff = self.y - other.y\n",
        "    return math.sqrt(x_diff**2 + y_diff**2)\n",
        "\n",
        "class Point3D(Point):\n",
        "  def __init__(self, x, y, z):\n",
        "    super().__init__(x,y)\n",
        "    self.z = z\n",
        "  def distance(self, other):\n",
        "    x_diff = self.x - other.x\n",
        "    y_diff = self.y - other.y\n",
        "    z_diff = self.z - other.z\n",
        "    return math.sqrt(x_diff**2 + y_diff**2 + z_diff**2)\n",
        "\n",
        "Point1 = Point( 3, 4)\n",
        "Point2 = Point( 6, 8)\n",
        "\n",
        "p3d1 = Point3D(1,1,1)\n",
        "p3d2 = Point3D(10,11,19)\n",
        "\n",
        "print(Point1.distance(Point2))\n",
        "print(p3d1.distance(p3d2))"
      ]
    }
  ]
}