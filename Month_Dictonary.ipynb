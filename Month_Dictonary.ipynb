{
  "nbformat": 4,
  "nbformat_minor": 0,
  "metadata": {
    "colab": {
      "provenance": [],
      "toc_visible": true,
      "authorship_tag": "ABX9TyO66icUZxrET79kG60RZ8wL",
      "include_colab_link": true
    },
    "kernelspec": {
      "name": "python3",
      "display_name": "Python 3"
    },
    "language_info": {
      "name": "python"
    }
  },
  "cells": [
    {
      "cell_type": "markdown",
      "metadata": {
        "id": "view-in-github",
        "colab_type": "text"
      },
      "source": [
        "<a href=\"https://colab.research.google.com/github/rlioudakis/BTE-320-Github/blob/main/Month_Dictonary.ipynb\" target=\"_parent\"><img src=\"https://colab.research.google.com/assets/colab-badge.svg\" alt=\"Open In Colab\"/></a>"
      ]
    },
    {
      "cell_type": "code",
      "execution_count": 3,
      "metadata": {
        "colab": {
          "base_uri": "https://localhost:8080/"
        },
        "id": "i4T9ck12ilav",
        "outputId": "58f86390-dd76-4f3b-9546-da5e6540ae11"
      },
      "outputs": [
        {
          "output_type": "stream",
          "name": "stdout",
          "text": [
            "The second month is Feb\n",
            "May and Jan are 4 months apart\n"
          ]
        }
      ],
      "source": [
        "monthNumbers = {'Jan':1, 'Feb':2, 'Mar':3, 'Apr':4, 'May':5,\n",
        "                1:'Jan', 2:'Feb', 3:'Mar', 4:'Apr', 5:'May'}\n",
        "\n",
        "print('The second month is ' + monthNumbers[2])\n",
        "dist = monthNumbers['May'] - monthNumbers['Jan']\n",
        "print('May and Jan are', dist, 'months apart')"
      ]
    }
  ]
}