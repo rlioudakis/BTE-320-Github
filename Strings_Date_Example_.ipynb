{
  "nbformat": 4,
  "nbformat_minor": 0,
  "metadata": {
    "colab": {
      "provenance": [],
      "authorship_tag": "ABX9TyN6nQHsVrG3WB0TZkYKNUEf",
      "include_colab_link": true
    },
    "kernelspec": {
      "name": "python3",
      "display_name": "Python 3"
    },
    "language_info": {
      "name": "python"
    }
  },
  "cells": [
    {
      "cell_type": "markdown",
      "metadata": {
        "id": "view-in-github",
        "colab_type": "text"
      },
      "source": [
        "<a href=\"https://colab.research.google.com/github/rlioudakis/BTE-320-Github/blob/main/Strings_Date_Example_.ipynb\" target=\"_parent\"><img src=\"https://colab.research.google.com/assets/colab-badge.svg\" alt=\"Open In Colab\"/></a>"
      ]
    },
    {
      "cell_type": "code",
      "execution_count": null,
      "metadata": {
        "id": "th91tPsQw9_9"
      },
      "outputs": [],
      "source": [
        "#Write a program that takes as input from the keyboard a string that corresponds to a date in the format MM/DD/YYYY"
      ]
    },
    {
      "cell_type": "code",
      "source": [
        "s = str(input(\"Enter Date in Format MM/DD/YYYY \"))\n",
        "month = s[0:2]\n",
        "day = s[3:5]\n",
        "year = s[6:]\n",
        "print(f\"The month is {month}, the day is {day}, the year is {year}\")"
      ],
      "metadata": {
        "id": "e1Csz71OxYVS",
        "outputId": "19cace69-69be-4199-9cf8-4902ce37d9a5",
        "colab": {
          "base_uri": "https://localhost:8080/"
        }
      },
      "execution_count": 1,
      "outputs": [
        {
          "output_type": "stream",
          "name": "stdout",
          "text": [
            "Enter Date in Format MM/DD/YYYY 02/26/2000\n",
            "The month is 02, the day is 26, the year is 2000\n"
          ]
        }
      ]
    }
  ]
}